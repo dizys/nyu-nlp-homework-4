{
 "cells": [
  {
   "cell_type": "code",
   "execution_count": 131,
   "metadata": {},
   "outputs": [],
   "source": [
    "from argparse import Namespace\n",
    "from pathlib import Path\n",
    "import math\n",
    "from collections import Counter\n",
    "import numpy as np\n",
    "import nltk\n",
    "from fastprogress.fastprogress import progress_bar\n",
    "\n",
    "from typing import Dict, List, Tuple, Set, Union, TypedDict"
   ]
  },
  {
   "cell_type": "code",
   "execution_count": 40,
   "metadata": {},
   "outputs": [
    {
     "name": "stderr",
     "output_type": "stream",
     "text": [
      "[nltk_data] Downloading package punkt to /Users/ziyang/nltk_data...\n",
      "[nltk_data]   Package punkt is already up-to-date!\n",
      "[nltk_data] Downloading package stopwords to\n",
      "[nltk_data]     /Users/ziyang/nltk_data...\n",
      "[nltk_data]   Package stopwords is already up-to-date!\n"
     ]
    },
    {
     "data": {
      "text/plain": [
       "True"
      ]
     },
     "execution_count": 40,
     "metadata": {},
     "output_type": "execute_result"
    }
   ],
   "source": [
    "nltk.download('punkt')\n",
    "nltk.download('stopwords')"
   ]
  },
  {
   "cell_type": "code",
   "execution_count": 37,
   "metadata": {},
   "outputs": [
    {
     "data": {
      "text/plain": [
       "['The', 'quick', 'brown', 'fox', 'jumps', 'over', 'the', 'lazy', 'dog', '.']"
      ]
     },
     "execution_count": 37,
     "metadata": {},
     "output_type": "execute_result"
    }
   ],
   "source": [
    "nltk.tokenize.word_tokenize('The quick brown  fox jumps over the lazy dog.')"
   ]
  },
  {
   "cell_type": "code",
   "execution_count": 48,
   "metadata": {},
   "outputs": [],
   "source": [
    "closed_class_stop_words = ['a', 'the', 'an', 'and', 'or', 'but', 'about', 'above', 'after', 'along', 'amid', 'among',\n",
    "                           'as', 'at', 'by', 'for', 'from', 'in', 'into', 'like', 'minus', 'near', 'of', 'off', 'on',\n",
    "                           'onto', 'out', 'over', 'past', 'per', 'plus', 'since', 'till', 'to', 'under', 'until', 'up',\n",
    "                           'via', 'vs', 'with', 'that', 'can', 'cannot', 'could', 'may', 'might', 'must',\n",
    "                           'need', 'ought', 'shall', 'should', 'will', 'would', 'have', 'had', 'has', 'having', 'be',\n",
    "                           'is', 'am', 'are', 'was', 'were', 'being', 'been', 'get', 'gets', 'got', 'gotten',\n",
    "                           'getting', 'seem', 'seeming', 'seems', 'seemed',\n",
    "                           'enough', 'both', 'all', 'your' 'those', 'this', 'these',\n",
    "                           'their', 'the', 'that', 'some', 'our', 'no', 'neither', 'my',\n",
    "                           'its', 'his' 'her', 'every', 'either', 'each', 'any', 'another',\n",
    "                           'an', 'a', 'just', 'mere', 'such', 'merely' 'right', 'no', 'not',\n",
    "                           'only', 'sheer', 'even', 'especially', 'namely', 'as', 'more',\n",
    "                           'most', 'less' 'least', 'so', 'enough', 'too', 'pretty', 'quite',\n",
    "                           'rather', 'somewhat', 'sufficiently' 'same', 'different', 'such',\n",
    "                           'when', 'why', 'where', 'how', 'what', 'who', 'whom', 'which',\n",
    "                           'whether', 'why', 'whose', 'if', 'anybody', 'anyone', 'anyplace',\n",
    "                           'anything', 'anytime' 'anywhere', 'everybody', 'everyday',\n",
    "                           'everyone', 'everyplace', 'everything' 'everywhere', 'whatever',\n",
    "                           'whenever', 'whereever', 'whichever', 'whoever', 'whomever' 'he',\n",
    "                           'him', 'his', 'her', 'she', 'it', 'they', 'them', 'its', 'their', 'theirs',\n",
    "                           'you', 'your', 'yours', 'me', 'my', 'mine', 'I', 'we', 'us', 'much', 'and/or'\n",
    "                           ]\n",
    "\n",
    "stopwords = set([*nltk.corpus.stopwords.words('english'), *closed_class_stop_words])"
   ]
  },
  {
   "cell_type": "code",
   "execution_count": 78,
   "metadata": {},
   "outputs": [
    {
     "data": {
      "text/plain": [
       "'run'"
      ]
     },
     "execution_count": 78,
     "metadata": {},
     "output_type": "execute_result"
    }
   ],
   "source": [
    "stemmer = nltk.stem.snowball.EnglishStemmer()\n",
    "stemmer.stem('running')"
   ]
  },
  {
   "cell_type": "code",
   "execution_count": 136,
   "metadata": {},
   "outputs": [],
   "source": [
    "PROJECT_DIR =  Path('..').absolute()\n",
    "DATA_DIR = PROJECT_DIR / 'data'"
   ]
  },
  {
   "cell_type": "code",
   "execution_count": 139,
   "metadata": {},
   "outputs": [],
   "source": [
    "args = Namespace(\n",
    "    article_file_path=DATA_DIR / 'cran.all.1400',\n",
    "    query_file_path=DATA_DIR / 'cran.qry',\n",
    "    answer_key_file_path=DATA_DIR / 'cranqrel',\n",
    "    out_file_path=PROJECT_DIR / 'output.txt',\n",
    ")"
   ]
  },
  {
   "cell_type": "code",
   "execution_count": 67,
   "metadata": {},
   "outputs": [],
   "source": [
    "def parse_data_file(file_path: Path) -> List[Dict[str, str]]:\n",
    "    data = []\n",
    "    last_data_item = None\n",
    "    last_data_item_key = None\n",
    "    last_data_item_value = None\n",
    "    with open(file_path, 'r') as f:\n",
    "        for line in f:\n",
    "            if line.startswith('.') and (len(line)==3 or (len(line) > 3 and line[2] == ' ')):\n",
    "                new_key = line[1]\n",
    "                if last_data_item_key is not None:\n",
    "                    last_data_item[last_data_item_key] = last_data_item_value.strip()\n",
    "                if new_key == 'I':\n",
    "                    if last_data_item is not None:\n",
    "                        data.append(last_data_item)\n",
    "                    last_data_item = {}\n",
    "                last_data_item_key = new_key\n",
    "                last_data_item_value = '' if len(line) == 2 else line[3:]\n",
    "            else:\n",
    "                last_data_item_value += line\n",
    "        if last_data_item_key is not None:\n",
    "            last_data_item[last_data_item_key] = last_data_item_value.strip()\n",
    "        if last_data_item is not None:\n",
    "            data.append(last_data_item)\n",
    "    return data"
   ]
  },
  {
   "cell_type": "code",
   "execution_count": 70,
   "metadata": {},
   "outputs": [],
   "source": [
    "def read_articles(file_path: Path) -> List[str]:\n",
    "    \"\"\"\n",
    "    Reads the articles from the file at the given path.\n",
    "    :param file_path: The path to the file containing the articles.\n",
    "    :return: A list of the articles.\n",
    "    \"\"\"\n",
    "    data_list = parse_data_file(file_path)\n",
    "    return [data_item['W'] for data_item in data_list]"
   ]
  },
  {
   "cell_type": "code",
   "execution_count": 85,
   "metadata": {},
   "outputs": [],
   "source": [
    "def tokenize_article(article: str) -> List[str]:\n",
    "    return [stemmer.stem(token.lower()) for token in nltk.tokenize.word_tokenize(article) if token.lower() not in stopwords and token.isalpha()]"
   ]
  },
  {
   "cell_type": "code",
   "execution_count": 89,
   "metadata": {},
   "outputs": [],
   "source": [
    "articles = read_articles(args.article_file_path)\n",
    "queries = read_articles(args.query_file_path)"
   ]
  },
  {
   "cell_type": "code",
   "execution_count": 93,
   "metadata": {},
   "outputs": [],
   "source": [
    "def get_df_dict(articles: List[str]) -> Dict[str, int]:\n",
    "    df_dict = {}\n",
    "    for article in articles:\n",
    "        token_set = set(tokenize_article(article))\n",
    "        for token in token_set:\n",
    "            if token not in df_dict:\n",
    "                df_dict[token] = 0\n",
    "            df_dict[token] += 1\n",
    "    return df_dict"
   ]
  },
  {
   "cell_type": "code",
   "execution_count": 96,
   "metadata": {},
   "outputs": [],
   "source": [
    "df_dict = get_df_dict(articles)"
   ]
  },
  {
   "cell_type": "code",
   "execution_count": 107,
   "metadata": {},
   "outputs": [],
   "source": [
    "class VectorizationResult(TypedDict):\n",
    "    vector: np.array\n",
    "    tokens: List[str]\n",
    "\n",
    "def vectorize_article(article: str, df_dict: Dict[str, int], tokens: List[str] = None) -> VectorizationResult:\n",
    "    token_list = tokenize_article(article)\n",
    "    if tokens is None:\n",
    "        tokens = list(set(token_list))\n",
    "    counter = Counter(token_list)\n",
    "    vector = []\n",
    "    for token in tokens:\n",
    "        tf = counter[token] if token in counter else 0\n",
    "        df = df_dict[token] if token in df_dict else 0\n",
    "        idf = math.log(len(articles) / (df + 1))\n",
    "        vector.append(tf * idf)\n",
    "    return VectorizationResult(vector=np.array(vector), tokens=tokens)"
   ]
  },
  {
   "cell_type": "code",
   "execution_count": 111,
   "metadata": {},
   "outputs": [],
   "source": [
    "def compute_cosine_similarity(v1: np.array, v2: np.array) -> float:\n",
    "    return np.dot(v1, v2) / (np.linalg.norm(v1) * np.linalg.norm(v2))"
   ]
  },
  {
   "cell_type": "code",
   "execution_count": 132,
   "metadata": {},
   "outputs": [
    {
     "data": {
      "text/html": [
       "\n",
       "<style>\n",
       "    /* Turns off some styling */\n",
       "    progress {\n",
       "        /* gets rid of default border in Firefox and Opera. */\n",
       "        border: none;\n",
       "        /* Needs to be in here for Safari polyfill so background images work as expected. */\n",
       "        background-size: auto;\n",
       "    }\n",
       "    .progress-bar-interrupted, .progress-bar-interrupted::-webkit-progress-bar {\n",
       "        background: #F44336;\n",
       "    }\n",
       "</style>\n"
      ],
      "text/plain": [
       "<IPython.core.display.HTML object>"
      ]
     },
     "metadata": {},
     "output_type": "display_data"
    },
    {
     "data": {
      "text/html": [
       "\n",
       "    <div>\n",
       "      <progress value='225' class='' max='225' style='width:300px; height:20px; vertical-align: middle;'></progress>\n",
       "      100.00% [225/225 06:30<00:00]\n",
       "    </div>\n",
       "    "
      ],
      "text/plain": [
       "<IPython.core.display.HTML object>"
      ]
     },
     "metadata": {},
     "output_type": "display_data"
    },
    {
     "name": "stderr",
     "output_type": "stream",
     "text": [
      "/var/folders/tq/mjf703r97mz20srbtyc44t0r0000gn/T/ipykernel_72507/1333023807.py:2: RuntimeWarning: invalid value encountered in double_scalars\n",
      "  return np.dot(v1, v2) / (np.linalg.norm(v1) * np.linalg.norm(v2))\n"
     ]
    }
   ],
   "source": [
    "result: List[Tuple[int, int, float]] = []\n",
    "\n",
    "query_index = 0\n",
    "for query in progress_bar(queries):\n",
    "    query_index += 1\n",
    "    query = vectorize_article(query, df_dict)\n",
    "    article_index = 0\n",
    "    for article in articles:\n",
    "        article_index += 1\n",
    "        article = vectorize_article(article, df_dict, query['tokens'])\n",
    "        cosine_similarity = compute_cosine_similarity(query['vector'], article['vector'])\n",
    "        if cosine_similarity > 0:\n",
    "            result.append((query_index, article_index, cosine_similarity))"
   ]
  },
  {
   "cell_type": "code",
   "execution_count": 140,
   "metadata": {},
   "outputs": [],
   "source": [
    "with open(args.out_file_path, 'w') as f:\n",
    "    for query_index, article_index, cosine_similarity in result:\n",
    "        f.write(f'{query_index} {article_index} {cosine_similarity}\\n')"
   ]
  }
 ],
 "metadata": {
  "interpreter": {
   "hash": "5edc29c2ed010d6458d71a83433b383a96a8cbd3efe8531bc90c4b8a5b8bcec9"
  },
  "kernelspec": {
   "display_name": "Python 3.8.9 64-bit",
   "language": "python",
   "name": "python3"
  },
  "language_info": {
   "codemirror_mode": {
    "name": "ipython",
    "version": 3
   },
   "file_extension": ".py",
   "mimetype": "text/x-python",
   "name": "python",
   "nbconvert_exporter": "python",
   "pygments_lexer": "ipython3",
   "version": "3.8.9"
  },
  "orig_nbformat": 4
 },
 "nbformat": 4,
 "nbformat_minor": 2
}
